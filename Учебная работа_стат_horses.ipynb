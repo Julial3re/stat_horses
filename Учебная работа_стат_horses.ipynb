{
  "nbformat": 4,
  "nbformat_minor": 0,
  "metadata": {
    "colab": {
      "provenance": []
    },
    "kernelspec": {
      "name": "python3",
      "display_name": "Python 3"
    },
    "language_info": {
      "name": "python"
    }
  },
  "cells": [
    {
      "cell_type": "code",
      "execution_count": null,
      "metadata": {
        "id": "qzxEtixj-MbZ"
      },
      "outputs": [],
      "source": [
        "import pandas as pd"
      ]
    },
    {
      "cell_type": "markdown",
      "source": [
        "1. Изучить представленный набор данных на основе описания его столбцов, загрузить его и оставить 8 столбцов для дальнейшего изучения: surgery?, Age, rectal temperature, pulse, respiratory rate, temperature of extremities, pain, outcome.\n"
      ],
      "metadata": {
        "id": "BCiVyqkco9CF"
      }
    },
    {
      "cell_type": "code",
      "source": [
        "horse_data = pd.read_csv('horse_data.csv',  na_values = '?', usecols = [0, 1, 3, 4, 5, 6, 10, 22], header = None,\n",
        "names = ['surgery?','Age','rectal temperature','pulse','respiratory rate','temperature of extremities','pain','outcome'])\n",
        "horse_data"
      ],
      "metadata": {
        "colab": {
          "base_uri": "https://localhost:8080/",
          "height": 424
        },
        "id": "QV3RItUnpMS0",
        "outputId": "dce836e9-2d3a-4631-a919-8a0001d021c7"
      },
      "execution_count": null,
      "outputs": [
        {
          "output_type": "execute_result",
          "data": {
            "text/plain": [
              "     surgery?  Age  rectal temperature  pulse  respiratory rate  \\\n",
              "0         2.0    1                38.5   66.0              28.0   \n",
              "1         1.0    1                39.2   88.0              20.0   \n",
              "2         2.0    1                38.3   40.0              24.0   \n",
              "3         1.0    9                39.1  164.0              84.0   \n",
              "4         2.0    1                37.3  104.0              35.0   \n",
              "..        ...  ...                 ...    ...               ...   \n",
              "295       1.0    1                 NaN  120.0              70.0   \n",
              "296       2.0    1                37.2   72.0              24.0   \n",
              "297       1.0    1                37.5   72.0              30.0   \n",
              "298       1.0    1                36.5  100.0              24.0   \n",
              "299       1.0    1                37.2   40.0              20.0   \n",
              "\n",
              "     temperature of extremities  pain  outcome  \n",
              "0                           3.0   5.0      2.0  \n",
              "1                           NaN   3.0      3.0  \n",
              "2                           1.0   3.0      1.0  \n",
              "3                           4.0   2.0      2.0  \n",
              "4                           NaN   NaN      2.0  \n",
              "..                          ...   ...      ...  \n",
              "295                         4.0   2.0      3.0  \n",
              "296                         3.0   4.0      3.0  \n",
              "297                         4.0   4.0      2.0  \n",
              "298                         3.0   3.0      1.0  \n",
              "299                         NaN   NaN      3.0  \n",
              "\n",
              "[300 rows x 8 columns]"
            ],
            "text/html": [
              "\n",
              "  <div id=\"df-45da7e05-5cc1-4e5a-a54f-cd62b642b7cd\">\n",
              "    <div class=\"colab-df-container\">\n",
              "      <div>\n",
              "<style scoped>\n",
              "    .dataframe tbody tr th:only-of-type {\n",
              "        vertical-align: middle;\n",
              "    }\n",
              "\n",
              "    .dataframe tbody tr th {\n",
              "        vertical-align: top;\n",
              "    }\n",
              "\n",
              "    .dataframe thead th {\n",
              "        text-align: right;\n",
              "    }\n",
              "</style>\n",
              "<table border=\"1\" class=\"dataframe\">\n",
              "  <thead>\n",
              "    <tr style=\"text-align: right;\">\n",
              "      <th></th>\n",
              "      <th>surgery?</th>\n",
              "      <th>Age</th>\n",
              "      <th>rectal temperature</th>\n",
              "      <th>pulse</th>\n",
              "      <th>respiratory rate</th>\n",
              "      <th>temperature of extremities</th>\n",
              "      <th>pain</th>\n",
              "      <th>outcome</th>\n",
              "    </tr>\n",
              "  </thead>\n",
              "  <tbody>\n",
              "    <tr>\n",
              "      <th>0</th>\n",
              "      <td>2.0</td>\n",
              "      <td>1</td>\n",
              "      <td>38.5</td>\n",
              "      <td>66.0</td>\n",
              "      <td>28.0</td>\n",
              "      <td>3.0</td>\n",
              "      <td>5.0</td>\n",
              "      <td>2.0</td>\n",
              "    </tr>\n",
              "    <tr>\n",
              "      <th>1</th>\n",
              "      <td>1.0</td>\n",
              "      <td>1</td>\n",
              "      <td>39.2</td>\n",
              "      <td>88.0</td>\n",
              "      <td>20.0</td>\n",
              "      <td>NaN</td>\n",
              "      <td>3.0</td>\n",
              "      <td>3.0</td>\n",
              "    </tr>\n",
              "    <tr>\n",
              "      <th>2</th>\n",
              "      <td>2.0</td>\n",
              "      <td>1</td>\n",
              "      <td>38.3</td>\n",
              "      <td>40.0</td>\n",
              "      <td>24.0</td>\n",
              "      <td>1.0</td>\n",
              "      <td>3.0</td>\n",
              "      <td>1.0</td>\n",
              "    </tr>\n",
              "    <tr>\n",
              "      <th>3</th>\n",
              "      <td>1.0</td>\n",
              "      <td>9</td>\n",
              "      <td>39.1</td>\n",
              "      <td>164.0</td>\n",
              "      <td>84.0</td>\n",
              "      <td>4.0</td>\n",
              "      <td>2.0</td>\n",
              "      <td>2.0</td>\n",
              "    </tr>\n",
              "    <tr>\n",
              "      <th>4</th>\n",
              "      <td>2.0</td>\n",
              "      <td>1</td>\n",
              "      <td>37.3</td>\n",
              "      <td>104.0</td>\n",
              "      <td>35.0</td>\n",
              "      <td>NaN</td>\n",
              "      <td>NaN</td>\n",
              "      <td>2.0</td>\n",
              "    </tr>\n",
              "    <tr>\n",
              "      <th>...</th>\n",
              "      <td>...</td>\n",
              "      <td>...</td>\n",
              "      <td>...</td>\n",
              "      <td>...</td>\n",
              "      <td>...</td>\n",
              "      <td>...</td>\n",
              "      <td>...</td>\n",
              "      <td>...</td>\n",
              "    </tr>\n",
              "    <tr>\n",
              "      <th>295</th>\n",
              "      <td>1.0</td>\n",
              "      <td>1</td>\n",
              "      <td>NaN</td>\n",
              "      <td>120.0</td>\n",
              "      <td>70.0</td>\n",
              "      <td>4.0</td>\n",
              "      <td>2.0</td>\n",
              "      <td>3.0</td>\n",
              "    </tr>\n",
              "    <tr>\n",
              "      <th>296</th>\n",
              "      <td>2.0</td>\n",
              "      <td>1</td>\n",
              "      <td>37.2</td>\n",
              "      <td>72.0</td>\n",
              "      <td>24.0</td>\n",
              "      <td>3.0</td>\n",
              "      <td>4.0</td>\n",
              "      <td>3.0</td>\n",
              "    </tr>\n",
              "    <tr>\n",
              "      <th>297</th>\n",
              "      <td>1.0</td>\n",
              "      <td>1</td>\n",
              "      <td>37.5</td>\n",
              "      <td>72.0</td>\n",
              "      <td>30.0</td>\n",
              "      <td>4.0</td>\n",
              "      <td>4.0</td>\n",
              "      <td>2.0</td>\n",
              "    </tr>\n",
              "    <tr>\n",
              "      <th>298</th>\n",
              "      <td>1.0</td>\n",
              "      <td>1</td>\n",
              "      <td>36.5</td>\n",
              "      <td>100.0</td>\n",
              "      <td>24.0</td>\n",
              "      <td>3.0</td>\n",
              "      <td>3.0</td>\n",
              "      <td>1.0</td>\n",
              "    </tr>\n",
              "    <tr>\n",
              "      <th>299</th>\n",
              "      <td>1.0</td>\n",
              "      <td>1</td>\n",
              "      <td>37.2</td>\n",
              "      <td>40.0</td>\n",
              "      <td>20.0</td>\n",
              "      <td>NaN</td>\n",
              "      <td>NaN</td>\n",
              "      <td>3.0</td>\n",
              "    </tr>\n",
              "  </tbody>\n",
              "</table>\n",
              "<p>300 rows × 8 columns</p>\n",
              "</div>\n",
              "      <button class=\"colab-df-convert\" onclick=\"convertToInteractive('df-45da7e05-5cc1-4e5a-a54f-cd62b642b7cd')\"\n",
              "              title=\"Convert this dataframe to an interactive table.\"\n",
              "              style=\"display:none;\">\n",
              "        \n",
              "  <svg xmlns=\"http://www.w3.org/2000/svg\" height=\"24px\"viewBox=\"0 0 24 24\"\n",
              "       width=\"24px\">\n",
              "    <path d=\"M0 0h24v24H0V0z\" fill=\"none\"/>\n",
              "    <path d=\"M18.56 5.44l.94 2.06.94-2.06 2.06-.94-2.06-.94-.94-2.06-.94 2.06-2.06.94zm-11 1L8.5 8.5l.94-2.06 2.06-.94-2.06-.94L8.5 2.5l-.94 2.06-2.06.94zm10 10l.94 2.06.94-2.06 2.06-.94-2.06-.94-.94-2.06-.94 2.06-2.06.94z\"/><path d=\"M17.41 7.96l-1.37-1.37c-.4-.4-.92-.59-1.43-.59-.52 0-1.04.2-1.43.59L10.3 9.45l-7.72 7.72c-.78.78-.78 2.05 0 2.83L4 21.41c.39.39.9.59 1.41.59.51 0 1.02-.2 1.41-.59l7.78-7.78 2.81-2.81c.8-.78.8-2.07 0-2.86zM5.41 20L4 18.59l7.72-7.72 1.47 1.35L5.41 20z\"/>\n",
              "  </svg>\n",
              "      </button>\n",
              "      \n",
              "  <style>\n",
              "    .colab-df-container {\n",
              "      display:flex;\n",
              "      flex-wrap:wrap;\n",
              "      gap: 12px;\n",
              "    }\n",
              "\n",
              "    .colab-df-convert {\n",
              "      background-color: #E8F0FE;\n",
              "      border: none;\n",
              "      border-radius: 50%;\n",
              "      cursor: pointer;\n",
              "      display: none;\n",
              "      fill: #1967D2;\n",
              "      height: 32px;\n",
              "      padding: 0 0 0 0;\n",
              "      width: 32px;\n",
              "    }\n",
              "\n",
              "    .colab-df-convert:hover {\n",
              "      background-color: #E2EBFA;\n",
              "      box-shadow: 0px 1px 2px rgba(60, 64, 67, 0.3), 0px 1px 3px 1px rgba(60, 64, 67, 0.15);\n",
              "      fill: #174EA6;\n",
              "    }\n",
              "\n",
              "    [theme=dark] .colab-df-convert {\n",
              "      background-color: #3B4455;\n",
              "      fill: #D2E3FC;\n",
              "    }\n",
              "\n",
              "    [theme=dark] .colab-df-convert:hover {\n",
              "      background-color: #434B5C;\n",
              "      box-shadow: 0px 1px 3px 1px rgba(0, 0, 0, 0.15);\n",
              "      filter: drop-shadow(0px 1px 2px rgba(0, 0, 0, 0.3));\n",
              "      fill: #FFFFFF;\n",
              "    }\n",
              "  </style>\n",
              "\n",
              "      <script>\n",
              "        const buttonEl =\n",
              "          document.querySelector('#df-45da7e05-5cc1-4e5a-a54f-cd62b642b7cd button.colab-df-convert');\n",
              "        buttonEl.style.display =\n",
              "          google.colab.kernel.accessAllowed ? 'block' : 'none';\n",
              "\n",
              "        async function convertToInteractive(key) {\n",
              "          const element = document.querySelector('#df-45da7e05-5cc1-4e5a-a54f-cd62b642b7cd');\n",
              "          const dataTable =\n",
              "            await google.colab.kernel.invokeFunction('convertToInteractive',\n",
              "                                                     [key], {});\n",
              "          if (!dataTable) return;\n",
              "\n",
              "          const docLinkHtml = 'Like what you see? Visit the ' +\n",
              "            '<a target=\"_blank\" href=https://colab.research.google.com/notebooks/data_table.ipynb>data table notebook</a>'\n",
              "            + ' to learn more about interactive tables.';\n",
              "          element.innerHTML = '';\n",
              "          dataTable['output_type'] = 'display_data';\n",
              "          await google.colab.output.renderOutput(dataTable, element);\n",
              "          const docLink = document.createElement('div');\n",
              "          docLink.innerHTML = docLinkHtml;\n",
              "          element.appendChild(docLink);\n",
              "        }\n",
              "      </script>\n",
              "    </div>\n",
              "  </div>\n",
              "  "
            ]
          },
          "metadata": {},
          "execution_count": 2
        }
      ]
    },
    {
      "cell_type": "markdown",
      "source": [
        "2.Проанализировать значения по столбцам, рассчитать базовые статистики, найти выбросы.\n"
      ],
      "metadata": {
        "id": "ulNSgdxlqNN6"
      }
    },
    {
      "cell_type": "code",
      "source": [
        "df = horse_data\n",
        "#методом unique проверены все столбцы-категории. Во всех, кроме \"Age\", есть NaN. В \"Age\" есть незаявленная категория 9.\n",
        "df['outcome'].unique()"
      ],
      "metadata": {
        "id": "UPLlweTEqJe_",
        "colab": {
          "base_uri": "https://localhost:8080/"
        },
        "outputId": "290771ef-9000-400b-d87f-7e37f7fdcef5"
      },
      "execution_count": null,
      "outputs": [
        {
          "output_type": "execute_result",
          "data": {
            "text/plain": [
              "array([ 2.,  3.,  1., nan])"
            ]
          },
          "metadata": {},
          "execution_count": 3
        }
      ]
    },
    {
      "cell_type": "code",
      "source": [
        "#А в столбце Age есть 24 значения, не заявленные в Attribute Information. Это может быть ошибкой в данных, или в описании\n",
        "df['Age'].value_counts()"
      ],
      "metadata": {
        "id": "Rdz-Az8CqJzu",
        "colab": {
          "base_uri": "https://localhost:8080/"
        },
        "outputId": "45925ca0-1d1b-4854-d1c1-18cfedf07408"
      },
      "execution_count": null,
      "outputs": [
        {
          "output_type": "execute_result",
          "data": {
            "text/plain": [
              "1    276\n",
              "9     24\n",
              "Name: Age, dtype: int64"
            ]
          },
          "metadata": {},
          "execution_count": 4
        }
      ]
    },
    {
      "cell_type": "code",
      "source": [
        "df['surgery?'].value_counts()"
      ],
      "metadata": {
        "id": "pU1EwV6Xqc_R",
        "colab": {
          "base_uri": "https://localhost:8080/"
        },
        "outputId": "87a30c4f-fa50-47cc-e076-c23973abdea1"
      },
      "execution_count": null,
      "outputs": [
        {
          "output_type": "execute_result",
          "data": {
            "text/plain": [
              "1.0    180\n",
              "2.0    119\n",
              "Name: surgery?, dtype: int64"
            ]
          },
          "metadata": {},
          "execution_count": 5
        }
      ]
    },
    {
      "cell_type": "code",
      "source": [
        "df['temperature of extremities'].value_counts()"
      ],
      "metadata": {
        "id": "qVgbcjG0qicx",
        "colab": {
          "base_uri": "https://localhost:8080/"
        },
        "outputId": "6f10c92e-eb7f-4b8d-e99f-89f43b472206"
      },
      "execution_count": null,
      "outputs": [
        {
          "output_type": "execute_result",
          "data": {
            "text/plain": [
              "3.0    109\n",
              "1.0     78\n",
              "2.0     30\n",
              "4.0     27\n",
              "Name: temperature of extremities, dtype: int64"
            ]
          },
          "metadata": {},
          "execution_count": 6
        }
      ]
    },
    {
      "cell_type": "code",
      "source": [
        "df['pain'].value_counts()"
      ],
      "metadata": {
        "id": "nDbHl4-4qlGL",
        "colab": {
          "base_uri": "https://localhost:8080/"
        },
        "outputId": "47e6c28f-0e22-4c17-f621-9e8e08e9e332"
      },
      "execution_count": null,
      "outputs": [
        {
          "output_type": "execute_result",
          "data": {
            "text/plain": [
              "3.0    67\n",
              "2.0    59\n",
              "5.0    42\n",
              "4.0    39\n",
              "1.0    38\n",
              "Name: pain, dtype: int64"
            ]
          },
          "metadata": {},
          "execution_count": 7
        }
      ]
    },
    {
      "cell_type": "code",
      "source": [
        "df['outcome'].value_counts()"
      ],
      "metadata": {
        "id": "rnZwqtprqlay",
        "colab": {
          "base_uri": "https://localhost:8080/"
        },
        "outputId": "36759c89-c014-4031-8a34-337a891ed29a"
      },
      "execution_count": null,
      "outputs": [
        {
          "output_type": "execute_result",
          "data": {
            "text/plain": [
              "1.0    178\n",
              "2.0     77\n",
              "3.0     44\n",
              "Name: outcome, dtype: int64"
            ]
          },
          "metadata": {},
          "execution_count": 8
        }
      ]
    },
    {
      "cell_type": "code",
      "source": [
        "#гугл говорит, что у молодых лошадей показатель пульса в 2 и более раз выше, чем у взрослых лошадей.\n",
        "#Учитывая нормальные референсные значения пульса у лошадей, с поправкой на то, что лошади больны или в стрессе и их пульс еще выше,\n",
        "#предположу, что \"9\" в столбце \"Age\" - это молодые лошади. Так что, допустим, \"9\" - не ошибка и не пропуск\n",
        "df.groupby(['Age', 'surgery?'])['pulse'].median()"
      ],
      "metadata": {
        "id": "fpm8vpIHqqEx",
        "colab": {
          "base_uri": "https://localhost:8080/"
        },
        "outputId": "ab20ebec-7504-49d7-8b98-47d9d4ce4986"
      },
      "execution_count": null,
      "outputs": [
        {
          "output_type": "execute_result",
          "data": {
            "text/plain": [
              "Age  surgery?\n",
              "1    1.0          66.0\n",
              "     2.0          54.0\n",
              "9    1.0         129.0\n",
              "     2.0          91.0\n",
              "Name: pulse, dtype: float64"
            ]
          },
          "metadata": {},
          "execution_count": 9
        }
      ]
    },
    {
      "cell_type": "code",
      "source": [
        "df_number = df[['rectal temperature','pulse','respiratory rate']]\n",
        "df_number.describe()"
      ],
      "metadata": {
        "id": "xCEj7ldIqqJo",
        "colab": {
          "base_uri": "https://localhost:8080/",
          "height": 300
        },
        "outputId": "52f68f2a-d3d1-4d6e-e1ff-1d045648d157"
      },
      "execution_count": null,
      "outputs": [
        {
          "output_type": "execute_result",
          "data": {
            "text/plain": [
              "       rectal temperature       pulse  respiratory rate\n",
              "count          240.000000  276.000000        242.000000\n",
              "mean            38.167917   71.913043         30.417355\n",
              "std              0.732289   28.630557         17.642231\n",
              "min             35.400000   30.000000          8.000000\n",
              "25%             37.800000   48.000000         18.500000\n",
              "50%             38.200000   64.000000         24.500000\n",
              "75%             38.500000   88.000000         36.000000\n",
              "max             40.800000  184.000000         96.000000"
            ],
            "text/html": [
              "\n",
              "  <div id=\"df-554bcee4-4d6d-4c80-ae9f-d33c299e860e\">\n",
              "    <div class=\"colab-df-container\">\n",
              "      <div>\n",
              "<style scoped>\n",
              "    .dataframe tbody tr th:only-of-type {\n",
              "        vertical-align: middle;\n",
              "    }\n",
              "\n",
              "    .dataframe tbody tr th {\n",
              "        vertical-align: top;\n",
              "    }\n",
              "\n",
              "    .dataframe thead th {\n",
              "        text-align: right;\n",
              "    }\n",
              "</style>\n",
              "<table border=\"1\" class=\"dataframe\">\n",
              "  <thead>\n",
              "    <tr style=\"text-align: right;\">\n",
              "      <th></th>\n",
              "      <th>rectal temperature</th>\n",
              "      <th>pulse</th>\n",
              "      <th>respiratory rate</th>\n",
              "    </tr>\n",
              "  </thead>\n",
              "  <tbody>\n",
              "    <tr>\n",
              "      <th>count</th>\n",
              "      <td>240.000000</td>\n",
              "      <td>276.000000</td>\n",
              "      <td>242.000000</td>\n",
              "    </tr>\n",
              "    <tr>\n",
              "      <th>mean</th>\n",
              "      <td>38.167917</td>\n",
              "      <td>71.913043</td>\n",
              "      <td>30.417355</td>\n",
              "    </tr>\n",
              "    <tr>\n",
              "      <th>std</th>\n",
              "      <td>0.732289</td>\n",
              "      <td>28.630557</td>\n",
              "      <td>17.642231</td>\n",
              "    </tr>\n",
              "    <tr>\n",
              "      <th>min</th>\n",
              "      <td>35.400000</td>\n",
              "      <td>30.000000</td>\n",
              "      <td>8.000000</td>\n",
              "    </tr>\n",
              "    <tr>\n",
              "      <th>25%</th>\n",
              "      <td>37.800000</td>\n",
              "      <td>48.000000</td>\n",
              "      <td>18.500000</td>\n",
              "    </tr>\n",
              "    <tr>\n",
              "      <th>50%</th>\n",
              "      <td>38.200000</td>\n",
              "      <td>64.000000</td>\n",
              "      <td>24.500000</td>\n",
              "    </tr>\n",
              "    <tr>\n",
              "      <th>75%</th>\n",
              "      <td>38.500000</td>\n",
              "      <td>88.000000</td>\n",
              "      <td>36.000000</td>\n",
              "    </tr>\n",
              "    <tr>\n",
              "      <th>max</th>\n",
              "      <td>40.800000</td>\n",
              "      <td>184.000000</td>\n",
              "      <td>96.000000</td>\n",
              "    </tr>\n",
              "  </tbody>\n",
              "</table>\n",
              "</div>\n",
              "      <button class=\"colab-df-convert\" onclick=\"convertToInteractive('df-554bcee4-4d6d-4c80-ae9f-d33c299e860e')\"\n",
              "              title=\"Convert this dataframe to an interactive table.\"\n",
              "              style=\"display:none;\">\n",
              "        \n",
              "  <svg xmlns=\"http://www.w3.org/2000/svg\" height=\"24px\"viewBox=\"0 0 24 24\"\n",
              "       width=\"24px\">\n",
              "    <path d=\"M0 0h24v24H0V0z\" fill=\"none\"/>\n",
              "    <path d=\"M18.56 5.44l.94 2.06.94-2.06 2.06-.94-2.06-.94-.94-2.06-.94 2.06-2.06.94zm-11 1L8.5 8.5l.94-2.06 2.06-.94-2.06-.94L8.5 2.5l-.94 2.06-2.06.94zm10 10l.94 2.06.94-2.06 2.06-.94-2.06-.94-.94-2.06-.94 2.06-2.06.94z\"/><path d=\"M17.41 7.96l-1.37-1.37c-.4-.4-.92-.59-1.43-.59-.52 0-1.04.2-1.43.59L10.3 9.45l-7.72 7.72c-.78.78-.78 2.05 0 2.83L4 21.41c.39.39.9.59 1.41.59.51 0 1.02-.2 1.41-.59l7.78-7.78 2.81-2.81c.8-.78.8-2.07 0-2.86zM5.41 20L4 18.59l7.72-7.72 1.47 1.35L5.41 20z\"/>\n",
              "  </svg>\n",
              "      </button>\n",
              "      \n",
              "  <style>\n",
              "    .colab-df-container {\n",
              "      display:flex;\n",
              "      flex-wrap:wrap;\n",
              "      gap: 12px;\n",
              "    }\n",
              "\n",
              "    .colab-df-convert {\n",
              "      background-color: #E8F0FE;\n",
              "      border: none;\n",
              "      border-radius: 50%;\n",
              "      cursor: pointer;\n",
              "      display: none;\n",
              "      fill: #1967D2;\n",
              "      height: 32px;\n",
              "      padding: 0 0 0 0;\n",
              "      width: 32px;\n",
              "    }\n",
              "\n",
              "    .colab-df-convert:hover {\n",
              "      background-color: #E2EBFA;\n",
              "      box-shadow: 0px 1px 2px rgba(60, 64, 67, 0.3), 0px 1px 3px 1px rgba(60, 64, 67, 0.15);\n",
              "      fill: #174EA6;\n",
              "    }\n",
              "\n",
              "    [theme=dark] .colab-df-convert {\n",
              "      background-color: #3B4455;\n",
              "      fill: #D2E3FC;\n",
              "    }\n",
              "\n",
              "    [theme=dark] .colab-df-convert:hover {\n",
              "      background-color: #434B5C;\n",
              "      box-shadow: 0px 1px 3px 1px rgba(0, 0, 0, 0.15);\n",
              "      filter: drop-shadow(0px 1px 2px rgba(0, 0, 0, 0.3));\n",
              "      fill: #FFFFFF;\n",
              "    }\n",
              "  </style>\n",
              "\n",
              "      <script>\n",
              "        const buttonEl =\n",
              "          document.querySelector('#df-554bcee4-4d6d-4c80-ae9f-d33c299e860e button.colab-df-convert');\n",
              "        buttonEl.style.display =\n",
              "          google.colab.kernel.accessAllowed ? 'block' : 'none';\n",
              "\n",
              "        async function convertToInteractive(key) {\n",
              "          const element = document.querySelector('#df-554bcee4-4d6d-4c80-ae9f-d33c299e860e');\n",
              "          const dataTable =\n",
              "            await google.colab.kernel.invokeFunction('convertToInteractive',\n",
              "                                                     [key], {});\n",
              "          if (!dataTable) return;\n",
              "\n",
              "          const docLinkHtml = 'Like what you see? Visit the ' +\n",
              "            '<a target=\"_blank\" href=https://colab.research.google.com/notebooks/data_table.ipynb>data table notebook</a>'\n",
              "            + ' to learn more about interactive tables.';\n",
              "          element.innerHTML = '';\n",
              "          dataTable['output_type'] = 'display_data';\n",
              "          await google.colab.output.renderOutput(dataTable, element);\n",
              "          const docLink = document.createElement('div');\n",
              "          docLink.innerHTML = docLinkHtml;\n",
              "          element.appendChild(docLink);\n",
              "        }\n",
              "      </script>\n",
              "    </div>\n",
              "  </div>\n",
              "  "
            ]
          },
          "metadata": {},
          "execution_count": 11
        }
      ]
    },
    {
      "cell_type": "code",
      "source": [
        "#межквартильный размах:\n",
        "q1 = df['rectal temperature'].quantile(0.25)\n",
        "q3 = df['rectal temperature'].quantile(0.75)\n",
        "iqr = q3 - q1\n",
        "lower_bound = q1 - (2.5 * iqr)\n",
        "upper_bound = q3 + (2.5 * iqr)\n",
        "\n",
        "#смотрю, что считается выбросами для температуры, если принимать такие lower_bound и upper_bound:\n",
        "df.loc[(~df['rectal temperature'].between(lower_bound, upper_bound, inclusive = 'both')) & (~df['rectal temperature'].isna())]['rectal temperature']"
      ],
      "metadata": {
        "colab": {
          "base_uri": "https://localhost:8080/"
        },
        "id": "ZCtXnF0mElJM",
        "outputId": "79987f5a-f6f5-4e86-fd79-07c3d7ce2bee"
      },
      "execution_count": null,
      "outputs": [
        {
          "output_type": "execute_result",
          "data": {
            "text/plain": [
              "44     35.4\n",
              "54     40.3\n",
              "91     40.3\n",
              "141    36.0\n",
              "259    40.8\n",
              "Name: rectal temperature, dtype: float64"
            ]
          },
          "metadata": {},
          "execution_count": 12
        }
      ]
    },
    {
      "cell_type": "code",
      "source": [
        "#межквартильный размах и возможные выбросы для пульса:\n",
        "q1 = df['pulse'].quantile(0.25)\n",
        "q3 = df['pulse'].quantile(0.75)\n",
        "iqr = q3 - q1\n",
        "lower_bound = q1 - (1.5 * iqr)\n",
        "upper_bound = q3 + (1.5 * iqr)\n",
        "df.loc[(~df['pulse'].between(lower_bound, upper_bound, inclusive = 'both')) & (~df['pulse'].isna())]['pulse']"
      ],
      "metadata": {
        "colab": {
          "base_uri": "https://localhost:8080/"
        },
        "id": "uXtR3v8LEs-8",
        "outputId": "aca118ce-6a81-4ecb-ff1d-455cb449c22d"
      },
      "execution_count": null,
      "outputs": [
        {
          "output_type": "execute_result",
          "data": {
            "text/plain": [
              "3      164.0\n",
              "41     150.0\n",
              "55     160.0\n",
              "255    184.0\n",
              "275    150.0\n",
              "Name: pulse, dtype: float64"
            ]
          },
          "metadata": {},
          "execution_count": 13
        }
      ]
    },
    {
      "cell_type": "code",
      "source": [
        "#межквартильный размах и возможные выбросы для частоты дыхания:\n",
        "q1 = df['respiratory rate'].quantile(0.25)\n",
        "q3 = df['respiratory rate'].quantile(0.75)\n",
        "iqr = q3 - q1\n",
        "lower_bound = q1 - (3 * iqr)\n",
        "upper_bound = q3 + (3 * iqr)\n",
        "df.loc[(~df['respiratory rate'].between(lower_bound, upper_bound, inclusive = 'both')) & (~df['respiratory rate'].isna())]['respiratory rate']\n",
        "\n",
        "#Лошади больны, так что могут иметь слишком заниженные/завышенные показатели температуры, пульса и частоты дыхания.\n",
        "#Считаю, что эти значения находятся в рамках возможного. Не ошибки"
      ],
      "metadata": {
        "colab": {
          "base_uri": "https://localhost:8080/"
        },
        "id": "TlnDM7hKE1bx",
        "outputId": "9e67b277-cffc-4c59-bed9-3434b033633c"
      },
      "execution_count": null,
      "outputs": [
        {
          "output_type": "execute_result",
          "data": {
            "text/plain": [
              "39     96.0\n",
              "106    96.0\n",
              "186    90.0\n",
              "269    90.0\n",
              "Name: respiratory rate, dtype: float64"
            ]
          },
          "metadata": {},
          "execution_count": 14
        }
      ]
    },
    {
      "cell_type": "markdown",
      "source": [
        "3.Рассчитать количество пропусков для всех выбранных столбцов. Принять и обосновать решение о методе заполнения пропусков по каждому столбцу на основе рассчитанных статистик и возможной взаимосвязи значений в них. Сформировать датафрейм, в котором пропуски будут отсутствовать.\n"
      ],
      "metadata": {
        "id": "TssyZtxNq0y1"
      }
    },
    {
      "cell_type": "code",
      "source": [
        "#количество пропусков в стобце:\n",
        "df.isna().mean() * 300"
      ],
      "metadata": {
        "id": "JH-fB59gqqVS",
        "colab": {
          "base_uri": "https://localhost:8080/"
        },
        "outputId": "7de3e7da-0804-4bbb-ff8f-828bd06088e1"
      },
      "execution_count": null,
      "outputs": [
        {
          "output_type": "execute_result",
          "data": {
            "text/plain": [
              "surgery?                       1.0\n",
              "Age                            0.0\n",
              "rectal temperature            60.0\n",
              "pulse                         24.0\n",
              "respiratory rate              58.0\n",
              "temperature of extremities    56.0\n",
              "pain                          55.0\n",
              "outcome                        1.0\n",
              "dtype: float64"
            ]
          },
          "metadata": {},
          "execution_count": 15
        }
      ]
    },
    {
      "cell_type": "code",
      "source": [
        "new_df = df.copy()\n",
        "#в первом столбце всего один пропуск. Значение связано, возможно, с болью, и маловероятно с чем-то еще.\n",
        "new_df['surgery?'] = new_df['surgery?'].fillna(df['surgery?'].mode()[0])"
      ],
      "metadata": {
        "id": "VF_nEWCiq6tA"
      },
      "execution_count": null,
      "outputs": []
    },
    {
      "cell_type": "code",
      "source": [
        "#В horse_data.names сказано \"In general, the more painful, the more likely it is to require surgery\", т.е. есть взаимосвязь\n",
        "print(df.groupby(['pain'])['surgery?'].median())\n",
        "#думаю, оправданно заполнить столбец с оценкой боли именно на основе столбца surgery\n",
        "print(df.groupby(['surgery?'])['pain'].median())\n"
      ],
      "metadata": {
        "id": "ZqJQDBMSq60e",
        "colab": {
          "base_uri": "https://localhost:8080/"
        },
        "outputId": "f3be798b-ad5a-4c20-98c4-3c1903b79b43"
      },
      "execution_count": null,
      "outputs": [
        {
          "output_type": "stream",
          "name": "stdout",
          "text": [
            "pain\n",
            "1.0    2.0\n",
            "2.0    1.0\n",
            "3.0    1.0\n",
            "4.0    1.0\n",
            "5.0    1.0\n",
            "Name: surgery?, dtype: float64\n",
            "surgery?\n",
            "1.0    3.0\n",
            "2.0    2.0\n",
            "Name: pain, dtype: float64\n"
          ]
        }
      ]
    },
    {
      "cell_type": "code",
      "source": [
        "#замена пропусков модой в столбце с оценкой боли:\n",
        "new_df['pain'] = new_df['pain'].fillna(df.groupby(['surgery?'])['pain'].transform(lambda x: x.mode()[0]))"
      ],
      "metadata": {
        "id": "tT3apnzEq68V"
      },
      "execution_count": null,
      "outputs": []
    },
    {
      "cell_type": "code",
      "source": [
        "#Исход болезни может быть связан, например, с болью\n",
        "print(df.groupby(['pain'])['outcome'].median())"
      ],
      "metadata": {
        "colab": {
          "base_uri": "https://localhost:8080/"
        },
        "id": "Tw1gfIFoFpID",
        "outputId": "a4992167-edac-4e3c-fc39-8a0bb017b49f"
      },
      "execution_count": null,
      "outputs": [
        {
          "output_type": "stream",
          "name": "stdout",
          "text": [
            "pain\n",
            "1.0    1.0\n",
            "2.0    1.0\n",
            "3.0    1.0\n",
            "4.0    2.0\n",
            "5.0    2.0\n",
            "Name: outcome, dtype: float64\n"
          ]
        }
      ]
    },
    {
      "cell_type": "code",
      "source": [
        "new_df['outcome'] = new_df['outcome'].fillna(df.groupby(['pain'])['outcome'].transform(lambda x: x.mode()[0]))"
      ],
      "metadata": {
        "id": "SkyFVni4FrCX"
      },
      "execution_count": null,
      "outputs": []
    },
    {
      "cell_type": "code",
      "source": [
        "#animals with painful lesions or suffering from circulatory shock may have an elevated heart rate\n",
        "#проверим эту связь, учитывая, что оценка субъективна (на оценке боли \"2\" пропорциональность ломается).\n",
        "#ЧСС главным образом зависит от того, жеребенок или взрослая это лошадь\n",
        "print(df.groupby(['Age','pain'])['pulse'].median())"
      ],
      "metadata": {
        "id": "Lu5In-xdq7B2",
        "colab": {
          "base_uri": "https://localhost:8080/"
        },
        "outputId": "84aaa6bd-49b4-4c12-8a48-e66c216a1e46"
      },
      "execution_count": null,
      "outputs": [
        {
          "output_type": "stream",
          "name": "stdout",
          "text": [
            "Age  pain\n",
            "1    1.0      48.0\n",
            "     2.0      72.0\n",
            "     3.0      55.0\n",
            "     4.0      77.5\n",
            "     5.0      88.0\n",
            "9    1.0      92.0\n",
            "     2.0     124.0\n",
            "     3.0     120.0\n",
            "     4.0     128.0\n",
            "     5.0     136.0\n",
            "Name: pulse, dtype: float64\n"
          ]
        }
      ]
    },
    {
      "cell_type": "code",
      "source": [
        "new_df['pulse'] = new_df['pulse'].fillna(new_df.groupby(['Age','pain'])['pulse'].transform('median'))"
      ],
      "metadata": {
        "id": "K4sK1WEAq7G7"
      },
      "execution_count": null,
      "outputs": []
    },
    {
      "cell_type": "code",
      "source": [
        "#гугл говорит, что частота дыхания у лошадей увеличивается при боли или повышении температуры. норма 8 - 14\n",
        "#на оценке боли \"2\" пропорциональность не соответствует теории, как и в случае с ЧСС.\n",
        "#Однако, сходится то, что ЧСС растет прямо пропорционально частоте дыхания. Видимо, дело в загадочной оценке \"2\"\n",
        "print(df.groupby(['Age','pain'])['respiratory rate'].median())"
      ],
      "metadata": {
        "id": "NSOyJ7vvq7NH",
        "colab": {
          "base_uri": "https://localhost:8080/"
        },
        "outputId": "8de1fa46-d3a0-414c-d5bb-096428e9e731"
      },
      "execution_count": null,
      "outputs": [
        {
          "output_type": "stream",
          "name": "stdout",
          "text": [
            "Age  pain\n",
            "1    1.0     20.0\n",
            "     2.0     28.0\n",
            "     3.0     24.0\n",
            "     4.0     27.5\n",
            "     5.0     28.0\n",
            "9    1.0     28.0\n",
            "     2.0     72.0\n",
            "     3.0     40.0\n",
            "     4.0     44.0\n",
            "     5.0     49.0\n",
            "Name: respiratory rate, dtype: float64\n"
          ]
        }
      ]
    },
    {
      "cell_type": "code",
      "source": [
        "new_df['respiratory rate'] = new_df['respiratory rate'].fillna(new_df.groupby(['Age','pain'])['respiratory rate'].transform('median'))"
      ],
      "metadata": {
        "id": "tSc18MsxxZEJ"
      },
      "execution_count": null,
      "outputs": []
    },
    {
      "cell_type": "code",
      "source": [
        "#найти зависимость столбца с температурой от других не удалось. Но СКО мало, и, скорее всего, стоит заменить пропуски средним\n",
        "new_df['rectal temperature'] = new_df['rectal temperature'].fillna(df['rectal temperature'].mean())"
      ],
      "metadata": {
        "id": "G2o4r-nhxZL4"
      },
      "execution_count": null,
      "outputs": []
    },
    {
      "cell_type": "code",
      "source": [
        "#cool to cold extremities indicate possible shock\n",
        "#hot extremities should correlate with an elevated rectal temp.\n",
        "#1 = Normal\n",
        "#2 = Warm\n",
        "#3 = Cool\n",
        "#4 = Cold\n",
        "#Я не увидела явных корреляций или зависимостей, ни с болью, ни с температурой. Пусть в основном у них будут прохладные конечности\n",
        "print(df.groupby(['temperature of extremities','pain'])['rectal temperature'].median())"
      ],
      "metadata": {
        "colab": {
          "base_uri": "https://localhost:8080/"
        },
        "id": "hvsomHIqxZSN",
        "outputId": "ed56aa2d-4b01-4470-fb67-dfa18e7c6dc2"
      },
      "execution_count": null,
      "outputs": [
        {
          "output_type": "stream",
          "name": "stdout",
          "text": [
            "temperature of extremities  pain\n",
            "1.0                         1.0     38.00\n",
            "                            2.0     37.90\n",
            "                            3.0     38.20\n",
            "                            4.0     38.10\n",
            "                            5.0     38.30\n",
            "2.0                         1.0     38.30\n",
            "                            2.0     38.60\n",
            "                            3.0     38.00\n",
            "                            4.0     38.25\n",
            "                            5.0       NaN\n",
            "3.0                         1.0     38.20\n",
            "                            2.0     38.65\n",
            "                            3.0     38.10\n",
            "                            4.0     37.90\n",
            "                            5.0     38.00\n",
            "4.0                         2.0     38.50\n",
            "                            3.0     38.30\n",
            "                            4.0     38.70\n",
            "                            5.0     38.60\n",
            "Name: rectal temperature, dtype: float64\n"
          ]
        }
      ]
    },
    {
      "cell_type": "code",
      "source": [
        "new_df['temperature of extremities'] = new_df['temperature of extremities'].fillna(df['temperature of extremities'].mode()[0])"
      ],
      "metadata": {
        "id": "7UvYtQ7Yxp-q"
      },
      "execution_count": null,
      "outputs": []
    },
    {
      "cell_type": "code",
      "source": [
        "#пропусков больше нет:\n",
        "new_df.isna().mean() * 300"
      ],
      "metadata": {
        "colab": {
          "base_uri": "https://localhost:8080/"
        },
        "id": "GydvNHMNx8Sl",
        "outputId": "97b78bc8-332d-4d45-d805-7b9f00fd138c"
      },
      "execution_count": null,
      "outputs": [
        {
          "output_type": "execute_result",
          "data": {
            "text/plain": [
              "surgery?                      0.0\n",
              "Age                           0.0\n",
              "rectal temperature            0.0\n",
              "pulse                         0.0\n",
              "respiratory rate              0.0\n",
              "temperature of extremities    0.0\n",
              "pain                          0.0\n",
              "outcome                       0.0\n",
              "dtype: float64"
            ]
          },
          "metadata": {},
          "execution_count": 30
        }
      ]
    },
    {
      "cell_type": "code",
      "source": [
        "new_df[['rectal temperature','pulse','respiratory rate']].describe()"
      ],
      "metadata": {
        "colab": {
          "base_uri": "https://localhost:8080/",
          "height": 300
        },
        "id": "dAn8-brhx8Y7",
        "outputId": "d9cdbdf8-0530-41a2-df85-e0acf7f31e3d"
      },
      "execution_count": null,
      "outputs": [
        {
          "output_type": "execute_result",
          "data": {
            "text/plain": [
              "       rectal temperature       pulse  respiratory rate\n",
              "count          300.000000  300.000000        300.000000\n",
              "mean            38.167917   72.213333         29.940000\n",
              "std              0.654705   27.997811         16.530798\n",
              "min             35.400000   30.000000          8.000000\n",
              "25%             37.900000   48.000000         20.000000\n",
              "50%             38.167917   64.000000         25.500000\n",
              "75%             38.500000   88.000000         36.000000\n",
              "max             40.800000  184.000000         96.000000"
            ],
            "text/html": [
              "\n",
              "  <div id=\"df-f71226d2-8de4-42cb-baeb-76a94e9c9901\">\n",
              "    <div class=\"colab-df-container\">\n",
              "      <div>\n",
              "<style scoped>\n",
              "    .dataframe tbody tr th:only-of-type {\n",
              "        vertical-align: middle;\n",
              "    }\n",
              "\n",
              "    .dataframe tbody tr th {\n",
              "        vertical-align: top;\n",
              "    }\n",
              "\n",
              "    .dataframe thead th {\n",
              "        text-align: right;\n",
              "    }\n",
              "</style>\n",
              "<table border=\"1\" class=\"dataframe\">\n",
              "  <thead>\n",
              "    <tr style=\"text-align: right;\">\n",
              "      <th></th>\n",
              "      <th>rectal temperature</th>\n",
              "      <th>pulse</th>\n",
              "      <th>respiratory rate</th>\n",
              "    </tr>\n",
              "  </thead>\n",
              "  <tbody>\n",
              "    <tr>\n",
              "      <th>count</th>\n",
              "      <td>300.000000</td>\n",
              "      <td>300.000000</td>\n",
              "      <td>300.000000</td>\n",
              "    </tr>\n",
              "    <tr>\n",
              "      <th>mean</th>\n",
              "      <td>38.167917</td>\n",
              "      <td>72.213333</td>\n",
              "      <td>29.940000</td>\n",
              "    </tr>\n",
              "    <tr>\n",
              "      <th>std</th>\n",
              "      <td>0.654705</td>\n",
              "      <td>27.997811</td>\n",
              "      <td>16.530798</td>\n",
              "    </tr>\n",
              "    <tr>\n",
              "      <th>min</th>\n",
              "      <td>35.400000</td>\n",
              "      <td>30.000000</td>\n",
              "      <td>8.000000</td>\n",
              "    </tr>\n",
              "    <tr>\n",
              "      <th>25%</th>\n",
              "      <td>37.900000</td>\n",
              "      <td>48.000000</td>\n",
              "      <td>20.000000</td>\n",
              "    </tr>\n",
              "    <tr>\n",
              "      <th>50%</th>\n",
              "      <td>38.167917</td>\n",
              "      <td>64.000000</td>\n",
              "      <td>25.500000</td>\n",
              "    </tr>\n",
              "    <tr>\n",
              "      <th>75%</th>\n",
              "      <td>38.500000</td>\n",
              "      <td>88.000000</td>\n",
              "      <td>36.000000</td>\n",
              "    </tr>\n",
              "    <tr>\n",
              "      <th>max</th>\n",
              "      <td>40.800000</td>\n",
              "      <td>184.000000</td>\n",
              "      <td>96.000000</td>\n",
              "    </tr>\n",
              "  </tbody>\n",
              "</table>\n",
              "</div>\n",
              "      <button class=\"colab-df-convert\" onclick=\"convertToInteractive('df-f71226d2-8de4-42cb-baeb-76a94e9c9901')\"\n",
              "              title=\"Convert this dataframe to an interactive table.\"\n",
              "              style=\"display:none;\">\n",
              "        \n",
              "  <svg xmlns=\"http://www.w3.org/2000/svg\" height=\"24px\"viewBox=\"0 0 24 24\"\n",
              "       width=\"24px\">\n",
              "    <path d=\"M0 0h24v24H0V0z\" fill=\"none\"/>\n",
              "    <path d=\"M18.56 5.44l.94 2.06.94-2.06 2.06-.94-2.06-.94-.94-2.06-.94 2.06-2.06.94zm-11 1L8.5 8.5l.94-2.06 2.06-.94-2.06-.94L8.5 2.5l-.94 2.06-2.06.94zm10 10l.94 2.06.94-2.06 2.06-.94-2.06-.94-.94-2.06-.94 2.06-2.06.94z\"/><path d=\"M17.41 7.96l-1.37-1.37c-.4-.4-.92-.59-1.43-.59-.52 0-1.04.2-1.43.59L10.3 9.45l-7.72 7.72c-.78.78-.78 2.05 0 2.83L4 21.41c.39.39.9.59 1.41.59.51 0 1.02-.2 1.41-.59l7.78-7.78 2.81-2.81c.8-.78.8-2.07 0-2.86zM5.41 20L4 18.59l7.72-7.72 1.47 1.35L5.41 20z\"/>\n",
              "  </svg>\n",
              "      </button>\n",
              "      \n",
              "  <style>\n",
              "    .colab-df-container {\n",
              "      display:flex;\n",
              "      flex-wrap:wrap;\n",
              "      gap: 12px;\n",
              "    }\n",
              "\n",
              "    .colab-df-convert {\n",
              "      background-color: #E8F0FE;\n",
              "      border: none;\n",
              "      border-radius: 50%;\n",
              "      cursor: pointer;\n",
              "      display: none;\n",
              "      fill: #1967D2;\n",
              "      height: 32px;\n",
              "      padding: 0 0 0 0;\n",
              "      width: 32px;\n",
              "    }\n",
              "\n",
              "    .colab-df-convert:hover {\n",
              "      background-color: #E2EBFA;\n",
              "      box-shadow: 0px 1px 2px rgba(60, 64, 67, 0.3), 0px 1px 3px 1px rgba(60, 64, 67, 0.15);\n",
              "      fill: #174EA6;\n",
              "    }\n",
              "\n",
              "    [theme=dark] .colab-df-convert {\n",
              "      background-color: #3B4455;\n",
              "      fill: #D2E3FC;\n",
              "    }\n",
              "\n",
              "    [theme=dark] .colab-df-convert:hover {\n",
              "      background-color: #434B5C;\n",
              "      box-shadow: 0px 1px 3px 1px rgba(0, 0, 0, 0.15);\n",
              "      filter: drop-shadow(0px 1px 2px rgba(0, 0, 0, 0.3));\n",
              "      fill: #FFFFFF;\n",
              "    }\n",
              "  </style>\n",
              "\n",
              "      <script>\n",
              "        const buttonEl =\n",
              "          document.querySelector('#df-f71226d2-8de4-42cb-baeb-76a94e9c9901 button.colab-df-convert');\n",
              "        buttonEl.style.display =\n",
              "          google.colab.kernel.accessAllowed ? 'block' : 'none';\n",
              "\n",
              "        async function convertToInteractive(key) {\n",
              "          const element = document.querySelector('#df-f71226d2-8de4-42cb-baeb-76a94e9c9901');\n",
              "          const dataTable =\n",
              "            await google.colab.kernel.invokeFunction('convertToInteractive',\n",
              "                                                     [key], {});\n",
              "          if (!dataTable) return;\n",
              "\n",
              "          const docLinkHtml = 'Like what you see? Visit the ' +\n",
              "            '<a target=\"_blank\" href=https://colab.research.google.com/notebooks/data_table.ipynb>data table notebook</a>'\n",
              "            + ' to learn more about interactive tables.';\n",
              "          element.innerHTML = '';\n",
              "          dataTable['output_type'] = 'display_data';\n",
              "          await google.colab.output.renderOutput(dataTable, element);\n",
              "          const docLink = document.createElement('div');\n",
              "          docLink.innerHTML = docLinkHtml;\n",
              "          element.appendChild(docLink);\n",
              "        }\n",
              "      </script>\n",
              "    </div>\n",
              "  </div>\n",
              "  "
            ]
          },
          "metadata": {},
          "execution_count": 31
        }
      ]
    },
    {
      "cell_type": "code",
      "source": [
        "df_number.describe()"
      ],
      "metadata": {
        "colab": {
          "base_uri": "https://localhost:8080/",
          "height": 300
        },
        "id": "CNc1bkC3HGhb",
        "outputId": "f2899935-2e2b-449a-efbb-912c9b0baf3c"
      },
      "execution_count": null,
      "outputs": [
        {
          "output_type": "execute_result",
          "data": {
            "text/plain": [
              "       rectal temperature       pulse  respiratory rate\n",
              "count          240.000000  276.000000        242.000000\n",
              "mean            38.167917   71.913043         30.417355\n",
              "std              0.732289   28.630557         17.642231\n",
              "min             35.400000   30.000000          8.000000\n",
              "25%             37.800000   48.000000         18.500000\n",
              "50%             38.200000   64.000000         24.500000\n",
              "75%             38.500000   88.000000         36.000000\n",
              "max             40.800000  184.000000         96.000000"
            ],
            "text/html": [
              "\n",
              "  <div id=\"df-df2a6104-08b5-4aaf-a088-e9a059d3acc6\">\n",
              "    <div class=\"colab-df-container\">\n",
              "      <div>\n",
              "<style scoped>\n",
              "    .dataframe tbody tr th:only-of-type {\n",
              "        vertical-align: middle;\n",
              "    }\n",
              "\n",
              "    .dataframe tbody tr th {\n",
              "        vertical-align: top;\n",
              "    }\n",
              "\n",
              "    .dataframe thead th {\n",
              "        text-align: right;\n",
              "    }\n",
              "</style>\n",
              "<table border=\"1\" class=\"dataframe\">\n",
              "  <thead>\n",
              "    <tr style=\"text-align: right;\">\n",
              "      <th></th>\n",
              "      <th>rectal temperature</th>\n",
              "      <th>pulse</th>\n",
              "      <th>respiratory rate</th>\n",
              "    </tr>\n",
              "  </thead>\n",
              "  <tbody>\n",
              "    <tr>\n",
              "      <th>count</th>\n",
              "      <td>240.000000</td>\n",
              "      <td>276.000000</td>\n",
              "      <td>242.000000</td>\n",
              "    </tr>\n",
              "    <tr>\n",
              "      <th>mean</th>\n",
              "      <td>38.167917</td>\n",
              "      <td>71.913043</td>\n",
              "      <td>30.417355</td>\n",
              "    </tr>\n",
              "    <tr>\n",
              "      <th>std</th>\n",
              "      <td>0.732289</td>\n",
              "      <td>28.630557</td>\n",
              "      <td>17.642231</td>\n",
              "    </tr>\n",
              "    <tr>\n",
              "      <th>min</th>\n",
              "      <td>35.400000</td>\n",
              "      <td>30.000000</td>\n",
              "      <td>8.000000</td>\n",
              "    </tr>\n",
              "    <tr>\n",
              "      <th>25%</th>\n",
              "      <td>37.800000</td>\n",
              "      <td>48.000000</td>\n",
              "      <td>18.500000</td>\n",
              "    </tr>\n",
              "    <tr>\n",
              "      <th>50%</th>\n",
              "      <td>38.200000</td>\n",
              "      <td>64.000000</td>\n",
              "      <td>24.500000</td>\n",
              "    </tr>\n",
              "    <tr>\n",
              "      <th>75%</th>\n",
              "      <td>38.500000</td>\n",
              "      <td>88.000000</td>\n",
              "      <td>36.000000</td>\n",
              "    </tr>\n",
              "    <tr>\n",
              "      <th>max</th>\n",
              "      <td>40.800000</td>\n",
              "      <td>184.000000</td>\n",
              "      <td>96.000000</td>\n",
              "    </tr>\n",
              "  </tbody>\n",
              "</table>\n",
              "</div>\n",
              "      <button class=\"colab-df-convert\" onclick=\"convertToInteractive('df-df2a6104-08b5-4aaf-a088-e9a059d3acc6')\"\n",
              "              title=\"Convert this dataframe to an interactive table.\"\n",
              "              style=\"display:none;\">\n",
              "        \n",
              "  <svg xmlns=\"http://www.w3.org/2000/svg\" height=\"24px\"viewBox=\"0 0 24 24\"\n",
              "       width=\"24px\">\n",
              "    <path d=\"M0 0h24v24H0V0z\" fill=\"none\"/>\n",
              "    <path d=\"M18.56 5.44l.94 2.06.94-2.06 2.06-.94-2.06-.94-.94-2.06-.94 2.06-2.06.94zm-11 1L8.5 8.5l.94-2.06 2.06-.94-2.06-.94L8.5 2.5l-.94 2.06-2.06.94zm10 10l.94 2.06.94-2.06 2.06-.94-2.06-.94-.94-2.06-.94 2.06-2.06.94z\"/><path d=\"M17.41 7.96l-1.37-1.37c-.4-.4-.92-.59-1.43-.59-.52 0-1.04.2-1.43.59L10.3 9.45l-7.72 7.72c-.78.78-.78 2.05 0 2.83L4 21.41c.39.39.9.59 1.41.59.51 0 1.02-.2 1.41-.59l7.78-7.78 2.81-2.81c.8-.78.8-2.07 0-2.86zM5.41 20L4 18.59l7.72-7.72 1.47 1.35L5.41 20z\"/>\n",
              "  </svg>\n",
              "      </button>\n",
              "      \n",
              "  <style>\n",
              "    .colab-df-container {\n",
              "      display:flex;\n",
              "      flex-wrap:wrap;\n",
              "      gap: 12px;\n",
              "    }\n",
              "\n",
              "    .colab-df-convert {\n",
              "      background-color: #E8F0FE;\n",
              "      border: none;\n",
              "      border-radius: 50%;\n",
              "      cursor: pointer;\n",
              "      display: none;\n",
              "      fill: #1967D2;\n",
              "      height: 32px;\n",
              "      padding: 0 0 0 0;\n",
              "      width: 32px;\n",
              "    }\n",
              "\n",
              "    .colab-df-convert:hover {\n",
              "      background-color: #E2EBFA;\n",
              "      box-shadow: 0px 1px 2px rgba(60, 64, 67, 0.3), 0px 1px 3px 1px rgba(60, 64, 67, 0.15);\n",
              "      fill: #174EA6;\n",
              "    }\n",
              "\n",
              "    [theme=dark] .colab-df-convert {\n",
              "      background-color: #3B4455;\n",
              "      fill: #D2E3FC;\n",
              "    }\n",
              "\n",
              "    [theme=dark] .colab-df-convert:hover {\n",
              "      background-color: #434B5C;\n",
              "      box-shadow: 0px 1px 3px 1px rgba(0, 0, 0, 0.15);\n",
              "      filter: drop-shadow(0px 1px 2px rgba(0, 0, 0, 0.3));\n",
              "      fill: #FFFFFF;\n",
              "    }\n",
              "  </style>\n",
              "\n",
              "      <script>\n",
              "        const buttonEl =\n",
              "          document.querySelector('#df-df2a6104-08b5-4aaf-a088-e9a059d3acc6 button.colab-df-convert');\n",
              "        buttonEl.style.display =\n",
              "          google.colab.kernel.accessAllowed ? 'block' : 'none';\n",
              "\n",
              "        async function convertToInteractive(key) {\n",
              "          const element = document.querySelector('#df-df2a6104-08b5-4aaf-a088-e9a059d3acc6');\n",
              "          const dataTable =\n",
              "            await google.colab.kernel.invokeFunction('convertToInteractive',\n",
              "                                                     [key], {});\n",
              "          if (!dataTable) return;\n",
              "\n",
              "          const docLinkHtml = 'Like what you see? Visit the ' +\n",
              "            '<a target=\"_blank\" href=https://colab.research.google.com/notebooks/data_table.ipynb>data table notebook</a>'\n",
              "            + ' to learn more about interactive tables.';\n",
              "          element.innerHTML = '';\n",
              "          dataTable['output_type'] = 'display_data';\n",
              "          await google.colab.output.renderOutput(dataTable, element);\n",
              "          const docLink = document.createElement('div');\n",
              "          docLink.innerHTML = docLinkHtml;\n",
              "          element.appendChild(docLink);\n",
              "        }\n",
              "      </script>\n",
              "    </div>\n",
              "  </div>\n",
              "  "
            ]
          },
          "metadata": {},
          "execution_count": 32
        }
      ]
    }
  ]
}